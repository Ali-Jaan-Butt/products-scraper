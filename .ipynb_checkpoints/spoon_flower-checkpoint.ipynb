{
 "cells": [
  {
   "cell_type": "code",
   "execution_count": 1,
   "id": "2e86becc-d214-4313-adb5-ba17f2e25f05",
   "metadata": {},
   "outputs": [],
   "source": [
    "import requests\n",
    "from scrapy import Selector\n",
    "import pandas as pd"
   ]
  },
  {
   "cell_type": "code",
   "execution_count": 9,
   "id": "a8b45427-6f19-4f60-bb12-43103c512891",
   "metadata": {},
   "outputs": [],
   "source": [
    "res = requests.get('https://www.spoonflower.com/profiles/pezzzldesign?sort=classic&substrate=wallpaper')"
   ]
  },
  {
   "cell_type": "code",
   "execution_count": 10,
   "id": "0941c09f-fc05-4c92-82c4-0dd3d1ec1cf8",
   "metadata": {},
   "outputs": [],
   "source": [
    "sel = Selector(text = res.text)"
   ]
  },
  {
   "cell_type": "code",
   "execution_count": 14,
   "id": "cf027d20-f105-4404-8aec-c1818776d62d",
   "metadata": {},
   "outputs": [],
   "source": [
    "products_url = ['https://www.spoonflower.com'+i for i in sel.xpath('//div[@class=\"polaroid_design_name\"]/a/@href').extract()]"
   ]
  },
  {
   "cell_type": "code",
   "execution_count": 16,
   "id": "c8a3dfc4-18c0-4064-89ba-34847a0b97d9",
   "metadata": {},
   "outputs": [
    {
     "data": {
      "text/plain": [
       "108"
      ]
     },
     "execution_count": 16,
     "metadata": {},
     "output_type": "execute_result"
    }
   ],
   "source": [
    "len(products_url)"
   ]
  },
  {
   "cell_type": "code",
   "execution_count": null,
   "id": "5f4a739c-680d-4572-ac7b-df466b6e6b9a",
   "metadata": {},
   "outputs": [],
   "source": [
    "for j in products_url[:20]:\n",
    "    "
   ]
  },
  {
   "cell_type": "code",
   "execution_count": 17,
   "id": "cdc65d6e-d25d-4450-b94d-b025ddb59822",
   "metadata": {},
   "outputs": [],
   "source": [
    "res = requests.get(products_url[0])"
   ]
  },
  {
   "cell_type": "code",
   "execution_count": 18,
   "id": "46dc9c08-144e-4937-b275-59194d5c332a",
   "metadata": {},
   "outputs": [],
   "source": [
    "sel = Selector(text = res.text)"
   ]
  },
  {
   "cell_type": "code",
   "execution_count": 20,
   "id": "deffae3d-7f6d-4220-bacf-b28abf423a68",
   "metadata": {},
   "outputs": [
    {
     "data": {
      "text/plain": [
       "'(L) Abstract blockprint Optical Art petals with 3D effect, steel blue on beige'"
      ]
     },
     "execution_count": 20,
     "metadata": {},
     "output_type": "execute_result"
    }
   ],
   "source": [
    "sel.xpath('//span[@class=\"design-title\"]/text()').extract_first()"
   ]
  },
  {
   "cell_type": "code",
   "execution_count": 21,
   "id": "118ca273-32ea-43dd-9e95-bc53cfa9690a",
   "metadata": {},
   "outputs": [
    {
     "data": {
      "text/plain": [
       "'$129.00'"
      ]
     },
     "execution_count": 21,
     "metadata": {},
     "output_type": "execute_result"
    }
   ],
   "source": [
    "sel.xpath('//span[@class=\"item-price\"]/text()').extract_first()"
   ]
  },
  {
   "cell_type": "code",
   "execution_count": 32,
   "id": "19104fa4-c00f-439b-a535-1b65db8e2858",
   "metadata": {},
   "outputs": [
    {
     "data": {
      "text/plain": [
       "'Subtle linen textured, DIY-friendly self-adhesive, removable and cleanable wallcovering for smooth, flat, non-textured surfaces'"
      ]
     },
     "execution_count": 32,
     "metadata": {},
     "output_type": "execute_result"
    }
   ],
   "source": [
    "sel.xpath('//div[@class=\"fabric-characteristics x-fat-border\"]/section/p/text()').extract_first()"
   ]
  },
  {
   "cell_type": "code",
   "execution_count": 37,
   "id": "5e1fc299-4566-4f9d-94d8-32dcdf1a24dd",
   "metadata": {},
   "outputs": [],
   "source": [
    "images = [k.xpath('.//img/@src').extract_first() for k in sel.xpath('//div[@class=\"swiper-wrapper\"]/div')]"
   ]
  },
  {
   "cell_type": "code",
   "execution_count": 38,
   "id": "3025e0d1-cd9a-4e22-b179-0f885eb0d998",
   "metadata": {},
   "outputs": [
    {
     "data": {
      "text/plain": [
       "['https://garden.spoonflower.com/c/16053980/i/xs/zudj3lxiuiUylKz8wOgG7TQ7KxJdYAVPYEu6P1DMI8QcZlzKuWBNGg/16053980-l-abstract-blockprint-optical-art-petals-3d-effect-steel-blue-on-beige-by-pezzzldesign.jpg',\n",
       " 'https://garden.spoonflower.com/c/16053980/i/xs/zudj3lxiuiUylKz8wOgG7TQ7KxJdYAVPYEuiMGPXFMsabBTQoj9DBma0/16053980-l-abstract-blockprint-optical-art-petals-3d-effect-steel-blue-on-beige-by-pezzzldesign.jpg',\n",
       " 'https://garden.spoonflower.com/c/16053980/i/xs/zudj3lxiuiUylKz8wOgG7TQ7KxJdYAVPYEulNGrXKsMMcA7N5zohBnP3Y_pXIg/16053980-l-abstract-blockprint-optical-art-petals-3d-effect-steel-blue-on-beige-by-pezzzldesign.jpg',\n",
       " 'https://garden.spoonflower.com/c/16053980/i/xs/zudj3lxiuiUylKz8wOgG7TQ7KxJdYAVPYEu3NGvJJMIFJRSZtWJT/16053980-l-abstract-blockprint-optical-art-petals-3d-effect-steel-blue-on-beige-by-pezzzldesign.jpg',\n",
       " 'https://garden.spoonflower.com/c/16053980/i/xs/zudj3lxiuiUylKz8wOgG7TQ7KxJdYAVPYEulIlDNItc3MVzKuWBNGg/16053980-l-abstract-blockprint-optical-art-petals-3d-effect-steel-blue-on-beige-by-pezzzldesign.jpg',\n",
       " 'https://garden.spoonflower.com/c/16053980/i/m/zudj3lxiuiUylKz8wOgG7TQ7KxJdYAVPYEulIlDNItc3MVzKuWBNGg/16053980-l-abstract-blockprint-optical-art-petals-3d-effect-steel-blue-on-beige-by-pezzzldesign.jpg',\n",
       " 'https://garden.spoonflower.com/c/16053980/i/l/zudj3lxiuiUylKz8wOgG7TQ7KxJdYAVPYEu6P1DMI8QcZlzKuWBNGg/16053980-l-abstract-blockprint-optical-art-petals-3d-effect-steel-blue-on-beige-by-pezzzldesign.jpg',\n",
       " 'https://garden.spoonflower.com/c/16053980/i/m/zudj3lxiuiUylKz8wOgG7TQ7KxJdYAVPYEuiMGPXFMsabBTQoj9DBma0/16053980-l-abstract-blockprint-optical-art-petals-3d-effect-steel-blue-on-beige-by-pezzzldesign.jpg',\n",
       " 'https://garden.spoonflower.com/c/16053980/i/m/zudj3lxiuiUylKz8wOgG7TQ7KxJdYAVPYEulNGrXKsMMcA7N5zohBnP3Y_pXIg/16053980-l-abstract-blockprint-optical-art-petals-3d-effect-steel-blue-on-beige-by-pezzzldesign.jpg',\n",
       " 'https://garden.spoonflower.com/c/16053980/i/m/zudj3lxiuiUylKz8wOgG7TQ7KxJdYAVPYEu3NGvJJMIFJRSZtWJT/16053980-l-abstract-blockprint-optical-art-petals-3d-effect-steel-blue-on-beige-by-pezzzldesign.jpg',\n",
       " 'https://garden.spoonflower.com/c/16053980/i/m/zudj3lxiuiUylKz8wOgG7TQ7KxJdYAVPYEulIlDNItc3MVzKuWBNGg/16053980-l-abstract-blockprint-optical-art-petals-3d-effect-steel-blue-on-beige-by-pezzzldesign.jpg',\n",
       " 'https://garden.spoonflower.com/c/16053980/i/l/zudj3lxiuiUylKz8wOgG7TQ7KxJdYAVPYEu6P1DMI8QcZlzKuWBNGg/16053980-l-abstract-blockprint-optical-art-petals-3d-effect-steel-blue-on-beige-by-pezzzldesign.jpg']"
      ]
     },
     "execution_count": 38,
     "metadata": {},
     "output_type": "execute_result"
    }
   ],
   "source": [
    "images"
   ]
  },
  {
   "cell_type": "code",
   "execution_count": null,
   "id": "7f82fa6f-141e-463a-a6c7-51490f1218e0",
   "metadata": {},
   "outputs": [],
   "source": []
  }
 ],
 "metadata": {
  "kernelspec": {
   "display_name": "Python 3 (ipykernel)",
   "language": "python",
   "name": "python3"
  },
  "language_info": {
   "codemirror_mode": {
    "name": "ipython",
    "version": 3
   },
   "file_extension": ".py",
   "mimetype": "text/x-python",
   "name": "python",
   "nbconvert_exporter": "python",
   "pygments_lexer": "ipython3",
   "version": "3.11.3"
  }
 },
 "nbformat": 4,
 "nbformat_minor": 5
}
