{
 "cells": [
  {
   "cell_type": "code",
   "execution_count": 30,
   "id": "ef1f59a0-6907-42d2-80fe-27a81febc9da",
   "metadata": {},
   "outputs": [],
   "source": [
    "import requests\n",
    "from scrapy import Selector\n",
    "import pandas as pd\n",
    "from tqdm import tqdm\n",
    "import re\n",
    "from selenium import webdriver\n",
    "import time"
   ]
  },
  {
   "cell_type": "code",
   "execution_count": 84,
   "id": "89b5acfc-69d5-4f80-9167-55684a11fc5d",
   "metadata": {},
   "outputs": [],
   "source": [
    "driver = webdriver.Chrome()"
   ]
  },
  {
   "cell_type": "code",
   "execution_count": 85,
   "id": "ec4fe89e-ddb7-480b-9b13-d55742d49fbc",
   "metadata": {},
   "outputs": [],
   "source": [
    "driver.get('https://wizideals.my/cottonon-discount-deals/')"
   ]
  },
  {
   "cell_type": "code",
   "execution_count": 86,
   "id": "66b80747-0f16-4f83-b102-eb6bb2844ac7",
   "metadata": {},
   "outputs": [],
   "source": [
    "sel = Selector(text = driver.page_source)"
   ]
  },
  {
   "cell_type": "code",
   "execution_count": 87,
   "id": "b4ee1b7b-5fb7-4a39-bc58-2f82eea2368b",
   "metadata": {},
   "outputs": [],
   "source": [
    "driver.find_element('xpath', '//div[@class=\"product__top__center\"]').click()"
   ]
  },
  {
   "cell_type": "code",
   "execution_count": 116,
   "id": "f96fae96-028d-49d9-831e-68335faec6d4",
   "metadata": {},
   "outputs": [],
   "source": [
    "driver.switch_to.window(driver.window_handles[0])"
   ]
  },
  {
   "cell_type": "code",
   "execution_count": 89,
   "id": "4e07f897-9aad-4c02-9fef-c365ea754f32",
   "metadata": {},
   "outputs": [],
   "source": [
    "sel = Selector(text = driver.page_source)"
   ]
  },
  {
   "cell_type": "code",
   "execution_count": 90,
   "id": "f624a948-5693-421c-851e-6537bf1d5a30",
   "metadata": {},
   "outputs": [
    {
     "data": {
      "text/plain": [
       "'Seamless Nelly Straight Neck Tank'"
      ]
     },
     "execution_count": 90,
     "metadata": {},
     "output_type": "execute_result"
    }
   ],
   "source": [
    "sel.xpath('//h1[@class=\"product-name name-above-price\"]/text()').extract_first()"
   ]
  },
  {
   "cell_type": "code",
   "execution_count": 102,
   "id": "4b2c4b53-1ee3-4e38-aac1-e32701ce16a4",
   "metadata": {},
   "outputs": [
    {
     "data": {
      "text/plain": [
       "'RM15'"
      ]
     },
     "execution_count": 102,
     "metadata": {},
     "output_type": "execute_result"
    }
   ],
   "source": [
    "sel.xpath('//span[@class=\"price-sales\"]/text()').extract_first().strip()"
   ]
  },
  {
   "cell_type": "code",
   "execution_count": 105,
   "id": "9356ce40-1656-4ed4-a832-e354c32988c9",
   "metadata": {},
   "outputs": [],
   "source": [
    "# driver.find_element('xpath', '//span[contains(text(), \"Description\")]').click()"
   ]
  },
  {
   "cell_type": "code",
   "execution_count": 109,
   "id": "0e9fad4a-a195-4cc7-bbc4-593572b46527",
   "metadata": {},
   "outputs": [
    {
     "data": {
      "text/plain": [
       "\"A cropped length and stretchy fabric makes the Nelly Stretch Tank the perfect match to your high waisted denim. The square neck is super cute while the wide straps mean all day comfort. We're calling it—this tank top is true love for your wardrobe.\""
      ]
     },
     "execution_count": 109,
     "metadata": {},
     "output_type": "execute_result"
    }
   ],
   "source": [
    "sel.xpath('//div[@id=\"description-tab\"]//div/pre/text()').extract_first()"
   ]
  },
  {
   "cell_type": "code",
   "execution_count": 111,
   "id": "98fe70fb-98ec-4f3c-b732-d595f1829a75",
   "metadata": {},
   "outputs": [
    {
     "data": {
      "text/plain": [
       "['https://cottonon.com/dw/image/v2/BBDS_PRD/on/demandware.static/-/Sites-catalog-master-women/default/dw2623a0de/2053983/2053983-73-2.jpg?sw=104&sh=156&sm=fit',\n",
       " 'https://cottonon.com/dw/image/v2/BBDS_PRD/on/demandware.static/-/Sites-catalog-master-women/default/dwff581118/2053983/2053983-73-1.jpg?sw=104&sh=156&sm=fit',\n",
       " 'https://cottonon.com/dw/image/v2/BBDS_PRD/on/demandware.static/-/Sites-catalog-master-women/default/dwa25438ca/2053983/2053983-73-3.jpg?sw=104&sh=156&sm=fit',\n",
       " 'https://cottonon.com/dw/image/v2/BBDS_PRD/on/demandware.static/-/Sites-catalog-master-women/default/dwa3daf0a7/2053983/2053983-73-4.jpg?sw=104&sh=156&sm=fit']"
      ]
     },
     "execution_count": 111,
     "metadata": {},
     "output_type": "execute_result"
    }
   ],
   "source": [
    "sel.xpath('//div[@class=\"product-thumbnails show-for-xlarge\"]/ul/li/a/img/@src').extract()"
   ]
  },
  {
   "cell_type": "code",
   "execution_count": 172,
   "id": "862f2c2b-27f8-41e2-bd4a-4730d0c1718f",
   "metadata": {},
   "outputs": [],
   "source": [
    "data = {'Name':[], 'Price':[], 'Description':[], 'Images_url':[]}"
   ]
  },
  {
   "cell_type": "code",
   "execution_count": 173,
   "id": "9be28da2-9552-4c29-aa21-73c4e5873f37",
   "metadata": {
    "scrolled": true
   },
   "outputs": [
    {
     "name": "stderr",
     "output_type": "stream",
     "text": [
      "100%|█████████████████████████████████████████████| 7/7 [00:23<00:00,  3.38s/it]\n"
     ]
    }
   ],
   "source": [
    "for i in tqdm(range(len(driver.find_elements('xpath', '//div[@class=\"product__top__center\"]')[:7]))):\n",
    "    driver.find_elements('xpath', '//div[@class=\"product__top__center\"]')[i].click()\n",
    "    driver.switch_to.window(driver.window_handles[1])\n",
    "    time.sleep(2)\n",
    "    sel = Selector(text = driver.page_source)\n",
    "    data['Name'].append(sel.xpath('//h1[@class=\"product-name name-above-price\"]/text()').extract_first())\n",
    "    try:\n",
    "        data['Price'].append(sel.xpath('//span[@class=\"price-sales\"]/text()').extract_first().strip())\n",
    "    except:\n",
    "        data['Price'].append(None)\n",
    "    data['Description'].append(sel.xpath('//div[@id=\"description-tab\"]//div/pre/text()').extract_first())\n",
    "    data['Images_url'].append(sel.xpath('//div[@class=\"product-thumbnails show-for-xlarge\"]/ul/li/a/img/@src').extract())\n",
    "    driver.close()\n",
    "    driver.switch_to.window(driver.window_handles[0])\n",
    "    driver.refresh()"
   ]
  },
  {
   "cell_type": "code",
   "execution_count": 174,
   "id": "7af91ba0-ced5-44dd-a062-0e4e3f41ff1f",
   "metadata": {
    "scrolled": true
   },
   "outputs": [],
   "source": [
    "df = pd.DataFrame(data)"
   ]
  },
  {
   "cell_type": "code",
   "execution_count": 175,
   "id": "08a0403d-ea62-4492-a5f2-9dded22731ef",
   "metadata": {},
   "outputs": [],
   "source": [
    "df.to_csv('wizideals.csv', index=False)"
   ]
  },
  {
   "cell_type": "code",
   "execution_count": 155,
   "id": "38323b87-7975-44ff-b6ff-2d62cb4e1452",
   "metadata": {
    "scrolled": true
   },
   "outputs": [],
   "source": [
    "data['Name'] = list(set(data['Name']))\n",
    "data['Price'] = list(set(data['Price']))\n",
    "data['Description'] = list(set(data['Description']))"
   ]
  },
  {
   "cell_type": "code",
   "execution_count": 156,
   "id": "59761135-1311-4fd3-9ed6-36a9e659ce37",
   "metadata": {
    "scrolled": true
   },
   "outputs": [],
   "source": [
    "def remove_duplicate_lists(input_list):\n",
    "    unique_tuples = {tuple(sublist) for sublist in input_list}\n",
    "    return [list(t) for t in unique_tuples]\n",
    "unique_list_of_lists = remove_duplicate_lists(data['Images_url'])"
   ]
  },
  {
   "cell_type": "code",
   "execution_count": 157,
   "id": "0d16a6cc-fa2b-451e-bced-a830848a58fc",
   "metadata": {},
   "outputs": [],
   "source": [
    "data['Images_url'] = unique_list_of_lists"
   ]
  },
  {
   "cell_type": "code",
   "execution_count": 162,
   "id": "4a618eee-2813-4ed5-a52f-91af05246108",
   "metadata": {},
   "outputs": [
    {
     "data": {
      "text/plain": [
       "5"
      ]
     },
     "execution_count": 162,
     "metadata": {},
     "output_type": "execute_result"
    }
   ],
   "source": [
    "len(data['Description'])"
   ]
  },
  {
   "cell_type": "code",
   "execution_count": 2,
   "id": "c874dd27-dbc1-49b9-bdbf-fd20b2148884",
   "metadata": {},
   "outputs": [],
   "source": [
    "res = requests.get('https://wizideals.my/cottonon-discount-deals/')"
   ]
  },
  {
   "cell_type": "code",
   "execution_count": 4,
   "id": "8bfc13b6-9103-4331-9764-397a81c26344",
   "metadata": {},
   "outputs": [],
   "source": [
    "sel = Selector(text = res.text)"
   ]
  },
  {
   "cell_type": "code",
   "execution_count": 12,
   "id": "63ac767a-1675-41d5-bc9a-2816311cfb24",
   "metadata": {},
   "outputs": [
    {
     "data": {
      "text/plain": [
       "'seamless-nelly-straight-neck-tank'"
      ]
     },
     "execution_count": 12,
     "metadata": {},
     "output_type": "execute_result"
    }
   ],
   "source": [
    "re.split('#', sel.xpath('//div[@class=\"product__top__center\"]/h3/a/@href').extract_first())[1]"
   ]
  },
  {
   "cell_type": "code",
   "execution_count": 15,
   "id": "411997be-e6a6-4ed9-bd61-560a749e778c",
   "metadata": {},
   "outputs": [],
   "source": [
    "strings = [re.split('#', i)[1] for i in sel.xpath('//div[@class=\"product__top__center\"]/h3/a/@href').extract()]"
   ]
  },
  {
   "cell_type": "code",
   "execution_count": 16,
   "id": "9efcd70b-ef7e-4af3-a57a-519a60a2bc12",
   "metadata": {},
   "outputs": [
    {
     "data": {
      "text/plain": [
       "['seamless-nelly-straight-neck-tank',\n",
       " 'seamless-benni-high-neck-tank',\n",
       " 'jessie-cropped-shirt',\n",
       " 'harry-potter-retro-sporty-zip-through',\n",
       " 'harry-potter-crew-sweatshirt',\n",
       " 'saylor-slip-on-plimsoll',\n",
       " 'harlow-lace-up-plimsoll',\n",
       " 'ella-sleek-lace-up-sneaker',\n",
       " 'rex-double-buckle-slide',\n",
       " 'burleigh-triple-strap-slide',\n",
       " 'anglesea-toe-post-slide',\n",
       " 'henley-sleep-tank',\n",
       " 'henley-sleep-tank',\n",
       " 'high-rise-cropped-skinny-jean',\n",
       " 'billie-suiting-pant',\n",
       " 'billie-suiting-pant',\n",
       " 'the-smoothing-padded-bandeau',\n",
       " 'everyday-lace-triangle-padded-bralette',\n",
       " 'everyday-lace-longline-push-up-2-bra',\n",
       " 'racing-moto-jacket',\n",
       " 'ultra-soft-twist-back-crop',\n",
       " 'ultra-soft-twist-back-crop',\n",
       " 'classic-loafer',\n",
       " 'ultra-soft-shaped-bike-short',\n",
       " 'lifestyle-move-jogger-short',\n",
       " 'dream-cos-case',\n",
       " 'kai-maxi-skirt',\n",
       " 'resort-short-sleeve-polo',\n",
       " 'pit-stop-short-sleeve-shirt',\n",
       " 'regular-fit-graphic-tee']"
      ]
     },
     "execution_count": 16,
     "metadata": {},
     "output_type": "execute_result"
    }
   ],
   "source": [
    "urls = ['https://cottonon.com/MY/'+j+'' for j in strings]"
   ]
  },
  {
   "cell_type": "code",
   "execution_count": null,
   "id": "1863006b-345d-4167-830c-a28086c9e277",
   "metadata": {},
   "outputs": [],
   "source": [
    "'https://cottonon.com/MY/seamless-benni-high-neck-tank/2052732-98.html'"
   ]
  },
  {
   "cell_type": "code",
   "execution_count": null,
   "id": "7eb49cd2-c47b-4e6d-b891-4975527e4392",
   "metadata": {},
   "outputs": [],
   "source": [
    "'https://cottonon.com/MY/seamless-nelly-straight-neck-tank/2053983-73.html'"
   ]
  },
  {
   "cell_type": "code",
   "execution_count": null,
   "id": "dfe84818-44fa-4e0c-97b5-771bcfe40a4c",
   "metadata": {},
   "outputs": [],
   "source": [
    "'https://wizideals.my/cottonon-discount-deals/#seamless-nelly-straight-neck-tank'"
   ]
  }
 ],
 "metadata": {
  "kernelspec": {
   "display_name": "Python 3 (ipykernel)",
   "language": "python",
   "name": "python3"
  },
  "language_info": {
   "codemirror_mode": {
    "name": "ipython",
    "version": 3
   },
   "file_extension": ".py",
   "mimetype": "text/x-python",
   "name": "python",
   "nbconvert_exporter": "python",
   "pygments_lexer": "ipython3",
   "version": "3.11.3"
  }
 },
 "nbformat": 4,
 "nbformat_minor": 5
}
