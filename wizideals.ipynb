{
 "cells": [
  {
   "cell_type": "code",
   "execution_count": 1,
   "id": "ef1f59a0-6907-42d2-80fe-27a81febc9da",
   "metadata": {},
   "outputs": [],
   "source": [
    "import requests\n",
    "from scrapy import Selector\n",
    "import pandas as pd\n",
    "from tqdm import tqdm\n",
    "import re\n",
    "from selenium import webdriver\n",
    "import time"
   ]
  },
  {
   "cell_type": "code",
   "execution_count": 2,
   "id": "89b5acfc-69d5-4f80-9167-55684a11fc5d",
   "metadata": {},
   "outputs": [],
   "source": [
    "driver = webdriver.Chrome()"
   ]
  },
  {
   "cell_type": "code",
   "execution_count": 3,
   "id": "ec4fe89e-ddb7-480b-9b13-d55742d49fbc",
   "metadata": {},
   "outputs": [],
   "source": [
    "driver.get('https://wizideals.my/cottonon-discount-deals/')"
   ]
  },
  {
   "cell_type": "code",
   "execution_count": 4,
   "id": "66b80747-0f16-4f83-b102-eb6bb2844ac7",
   "metadata": {},
   "outputs": [],
   "source": [
    "sel = Selector(text = driver.page_source)"
   ]
  },
  {
   "cell_type": "code",
   "execution_count": 8,
   "id": "7a53064e-6ac6-44e3-b31f-950851081ea7",
   "metadata": {},
   "outputs": [],
   "source": [
    "urls = ['https://wizideals.my'+l for l in sel.xpath('//div[@class=\"product__top__center\"]/h3/a/@href').extract()]"
   ]
  },
  {
   "cell_type": "code",
   "execution_count": 13,
   "id": "862f2c2b-27f8-41e2-bd4a-4730d0c1718f",
   "metadata": {},
   "outputs": [],
   "source": [
    "data = {'Name':[], 'Price':[], 'Description':[], 'Images_url':[], 'Destination_url':[]}"
   ]
  },
  {
   "cell_type": "code",
   "execution_count": 14,
   "id": "9be28da2-9552-4c29-aa21-73c4e5873f37",
   "metadata": {
    "scrolled": true
   },
   "outputs": [
    {
     "name": "stderr",
     "output_type": "stream",
     "text": [
      "100%|█████████████████████████████████████████████| 7/7 [00:32<00:00,  4.71s/it]\n"
     ]
    }
   ],
   "source": [
    "for i, u in zip(tqdm(range(len(driver.find_elements('xpath', '//div[@class=\"product__top__center\"]')[:7]))), urls[:7]):\n",
    "    driver.find_elements('xpath', '//div[@class=\"product__top__center\"]')[i].click()\n",
    "    driver.switch_to.window(driver.window_handles[1])\n",
    "    time.sleep(2)\n",
    "    sel = Selector(text = driver.page_source)\n",
    "    data['Name'].append(sel.xpath('//h1[@class=\"product-name name-above-price\"]/text()').extract_first())\n",
    "    try:\n",
    "        data['Price'].append(sel.xpath('//span[@class=\"price-sales\"]/text()').extract_first().strip())\n",
    "    except:\n",
    "        data['Price'].append(None)\n",
    "    data['Description'].append(sel.xpath('//div[@id=\"description-tab\"]//div/pre/text()').extract_first())\n",
    "    data['Images_url'].append(sel.xpath('//div[@class=\"product-thumbnails show-for-xlarge\"]/ul/li/a/img/@src').extract())\n",
    "    data['Destination_url'].append(u)\n",
    "    driver.close()\n",
    "    driver.switch_to.window(driver.window_handles[0])\n",
    "    driver.refresh()"
   ]
  },
  {
   "cell_type": "code",
   "execution_count": 15,
   "id": "7af91ba0-ced5-44dd-a062-0e4e3f41ff1f",
   "metadata": {
    "scrolled": true
   },
   "outputs": [],
   "source": [
    "df = pd.DataFrame(data)"
   ]
  },
  {
   "cell_type": "code",
   "execution_count": 17,
   "id": "f0d3a093-ded4-472a-8078-6146a2071175",
   "metadata": {},
   "outputs": [],
   "source": [
    "df.dropna(subset='Name', ignore_index=True, inplace=True)"
   ]
  },
  {
   "cell_type": "code",
   "execution_count": 18,
   "id": "08a0403d-ea62-4492-a5f2-9dded22731ef",
   "metadata": {},
   "outputs": [],
   "source": [
    "df.to_csv('wizideals.csv', index=False)"
   ]
  }
 ],
 "metadata": {
  "kernelspec": {
   "display_name": "Python 3 (ipykernel)",
   "language": "python",
   "name": "python3"
  },
  "language_info": {
   "codemirror_mode": {
    "name": "ipython",
    "version": 3
   },
   "file_extension": ".py",
   "mimetype": "text/x-python",
   "name": "python",
   "nbconvert_exporter": "python",
   "pygments_lexer": "ipython3",
   "version": "3.11.3"
  }
 },
 "nbformat": 4,
 "nbformat_minor": 5
}
